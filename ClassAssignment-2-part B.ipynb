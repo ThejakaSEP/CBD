{
 "cells": [
  {
   "cell_type": "markdown",
   "id": "212acfc7",
   "metadata": {},
   "source": [
    "Praveen - C860583\n",
    "\n",
    "Tomson - C0857730"
   ]
  },
  {
   "cell_type": "markdown",
   "id": "7f8769be",
   "metadata": {},
   "source": [
    "In class assignment 2 part B\n",
    "Perform all the preprocessing methods that we applied on textual data today, on the the following paragraph:\n",
    "\n",
    "1- Stripping white space\n",
    "\n",
    "2- Remove periods\n",
    "\n",
    "3- capitalize text\n",
    "\n",
    "4- replace letters with X\n",
    "\n",
    "5- remove punctuation\n",
    "\n",
    "6- remove stopwords\n",
    "\n",
    "7- Split sentences\n",
    "\n",
    "8- Tokenize words, 2 approaches\n",
    "\n",
    "9- stemming\n",
    "\n",
    "10- Lemmatizing some sample words that you choose\n",
    "\n"
   ]
  },
  {
   "cell_type": "code",
   "execution_count": 2,
   "id": "64bd84b9",
   "metadata": {},
   "outputs": [],
   "source": [
    "text = '''\"    Clustering is a Machine Learning technique that involves the grouping of data points. Given a set of data points, we can use a clustering \n",
    "algorithm to classify each data point into a specific group. In theory, data points that are in the same group should have similar properties and/or \n",
    "features, while data points in ? different groups should have highly dissimilar properties and/or features. Clustering is a method of unsupervised learning\n",
    "and is a common technique for statistical data analysis used in many fields.? In Data Science,\n",
    "we can use clustering analysis to gain / some valuable insights from our data by seeing what groups \n",
    "the data points fall into when we apply a clustering algorithm. Today, we’re going to look at 5 popular \n",
    "clustering algorithms that data scientists need to know and their pros and cons   !   \"'''"
   ]
  },
  {
   "cell_type": "markdown",
   "id": "13bcb820",
   "metadata": {},
   "source": [
    "### 1- Stripping white space"
   ]
  },
  {
   "cell_type": "code",
   "execution_count": 52,
   "id": "cd7dbdea",
   "metadata": {},
   "outputs": [
    {
     "name": "stdout",
     "output_type": "stream",
     "text": [
      "['\"    Clustering is a Machine Learning technique that involves the grouping of data points.', 'Given a set of data points, we can use a clustering \\nalgorithm to classify each data point into a specific group.', 'In theory, data points that are in the same group should have similar properties and/or \\nfeatures, while data points in ?', 'different groups should have highly dissimilar properties and/or features.', 'Clustering is a method of unsupervised learning\\nand is a common technique for statistical data analysis used in many fields.?', 'In Data Science,\\nwe can use clustering analysis to gain / some valuable insights from our data by seeing what groups \\nthe data points fall into when we apply a clustering algorithm.', 'Today, we’re going to look at 5 popular \\nclustering algorithms that data scientists need to know and their pros and cons   !   \"']\n"
     ]
    }
   ],
   "source": [
    "#We could do it without the tokenizing sentences but it will remove only strip from the whole text\n",
    "from nltk.tokenize import sent_tokenize\n",
    "tokenized_sent = sent_tokenize(text)\n",
    "print(tokenized_sent)"
   ]
  },
  {
   "cell_type": "code",
   "execution_count": 53,
   "id": "c15ca5c8",
   "metadata": {},
   "outputs": [
    {
     "data": {
      "text/plain": [
       "['\"    Clustering is a Machine Learning technique that involves the grouping of data points.',\n",
       " 'Given a set of data points, we can use a clustering \\nalgorithm to classify each data point into a specific group.',\n",
       " 'In theory, data points that are in the same group should have similar properties and/or \\nfeatures, while data points in ?',\n",
       " 'different groups should have highly dissimilar properties and/or features.',\n",
       " 'Clustering is a method of unsupervised learning\\nand is a common technique for statistical data analysis used in many fields.?',\n",
       " 'In Data Science,\\nwe can use clustering analysis to gain / some valuable insights from our data by seeing what groups \\nthe data points fall into when we apply a clustering algorithm.',\n",
       " 'Today, we’re going to look at 5 popular \\nclustering algorithms that data scientists need to know and their pros and cons   !   \"']"
      ]
     },
     "execution_count": 53,
     "metadata": {},
     "output_type": "execute_result"
    }
   ],
   "source": [
    "strip_whitespace = [string.strip() for string in tokenized_sent]\n",
    "strip_whitespace"
   ]
  },
  {
   "cell_type": "markdown",
   "id": "74747827",
   "metadata": {},
   "source": [
    "### 2- Remove periods"
   ]
  },
  {
   "cell_type": "code",
   "execution_count": 55,
   "id": "eae865d6",
   "metadata": {},
   "outputs": [
    {
     "data": {
      "text/plain": [
       "['\"    Clustering is a Machine Learning technique that involves the grouping of data points',\n",
       " 'Given a set of data points, we can use a clustering \\nalgorithm to classify each data point into a specific group',\n",
       " 'In theory, data points that are in the same group should have similar properties and/or \\nfeatures, while data points in ?',\n",
       " 'different groups should have highly dissimilar properties and/or features',\n",
       " 'Clustering is a method of unsupervised learning\\nand is a common technique for statistical data analysis used in many fields?',\n",
       " 'In Data Science,\\nwe can use clustering analysis to gain / some valuable insights from our data by seeing what groups \\nthe data points fall into when we apply a clustering algorithm',\n",
       " 'Today, we’re going to look at 5 popular \\nclustering algorithms that data scientists need to know and their pros and cons   !   \"']"
      ]
     },
     "execution_count": 55,
     "metadata": {},
     "output_type": "execute_result"
    }
   ],
   "source": [
    "remove_periods = [string.replace(\".\",\"\") for string in strip_whitespace]\n",
    "remove_periods\n"
   ]
  },
  {
   "cell_type": "markdown",
   "id": "9e71491e",
   "metadata": {},
   "source": [
    "### 3- Capitalize text"
   ]
  },
  {
   "cell_type": "code",
   "execution_count": 11,
   "id": "d5c60d0d",
   "metadata": {},
   "outputs": [
    {
     "data": {
      "text/plain": [
       "['\"    CLUSTERING IS A MACHINE LEARNING TECHNIQUE THAT INVOLVES THE GROUPING OF DATA POINTS',\n",
       " 'GIVEN A SET OF DATA POINTS, WE CAN USE A CLUSTERING \\nALGORITHM TO CLASSIFY EACH DATA POINT INTO A SPECIFIC GROUP',\n",
       " 'IN THEORY, DATA POINTS THAT ARE IN THE SAME GROUP SHOULD HAVE SIMILAR PROPERTIES AND/OR \\nFEATURES, WHILE DATA POINTS IN ?',\n",
       " 'DIFFERENT GROUPS SHOULD HAVE HIGHLY DISSIMILAR PROPERTIES AND/OR FEATURES',\n",
       " 'CLUSTERING IS A METHOD OF UNSUPERVISED LEARNING\\nAND IS A COMMON TECHNIQUE FOR STATISTICAL DATA ANALYSIS USED IN MANY FIELDS?',\n",
       " 'IN DATA SCIENCE,\\nWE CAN USE CLUSTERING ANALYSIS TO GAIN / SOME VALUABLE INSIGHTS FROM OUR DATA BY SEEING WHAT GROUPS \\nTHE DATA POINTS FALL INTO WHEN WE APPLY A CLUSTERING ALGORITHM',\n",
       " 'TODAY, WE’RE GOING TO LOOK AT 5 POPULAR \\nCLUSTERING ALGORITHMS THAT DATA SCIENTISTS NEED TO KNOW AND THEIR PROS AND CONS   !   \"']"
      ]
     },
     "execution_count": 11,
     "metadata": {},
     "output_type": "execute_result"
    }
   ],
   "source": [
    "def capitaliser(string: str):\n",
    "    return string.upper()\n",
    "\n",
    "[capitaliser(string) for string in remove_periods]"
   ]
  },
  {
   "cell_type": "markdown",
   "id": "8218f883",
   "metadata": {},
   "source": [
    "### 4- Replace letters with X"
   ]
  },
  {
   "cell_type": "code",
   "execution_count": 12,
   "id": "60e63071",
   "metadata": {},
   "outputs": [
    {
     "data": {
      "text/plain": [
       "['\"    XXXXXXXXXX XX X XXXXXXX XXXXXXXX XXXXXXXXX XXXX XXXXXXXX XXX XXXXXXXX XX XXXX XXXXXX',\n",
       " 'XXXXX X XXX XX XXXX XXXXXX, XX XXX XXX X XXXXXXXXXX \\nXXXXXXXXX XX XXXXXXXX XXXX XXXX XXXXX XXXX X XXXXXXXX XXXXX',\n",
       " 'XX XXXXXX, XXXX XXXXXX XXXX XXX XX XXX XXXX XXXXX XXXXXX XXXX XXXXXXX XXXXXXXXXX XXX/XX \\nXXXXXXXX, XXXXX XXXX XXXXXX XX ?',\n",
       " 'XXXXXXXXX XXXXXX XXXXXX XXXX XXXXXX XXXXXXXXXX XXXXXXXXXX XXX/XX XXXXXXXX',\n",
       " 'XXXXXXXXXX XX X XXXXXX XX XXXXXXXXXXXX XXXXXXXX\\nXXX XX X XXXXXX XXXXXXXXX XXX XXXXXXXXXXX XXXX XXXXXXXX XXXX XX XXXX XXXXXX?',\n",
       " 'XX XXXX XXXXXXX,\\nXX XXX XXX XXXXXXXXXX XXXXXXXX XX XXXX / XXXX XXXXXXXX XXXXXXXX XXXX XXX XXXX XX XXXXXX XXXX XXXXXX \\nXXX XXXX XXXXXX XXXX XXXX XXXX XX XXXXX X XXXXXXXXXX XXXXXXXXX',\n",
       " 'XXXXX, XX’XX XXXXX XX XXXX XX 5 XXXXXXX \\nXXXXXXXXXX XXXXXXXXXX XXXX XXXX XXXXXXXXXX XXXX XX XXXX XXX XXXXX XXXX XXX XXXX   !   \"']"
      ]
     },
     "execution_count": 12,
     "metadata": {},
     "output_type": "execute_result"
    }
   ],
   "source": [
    "import re\n",
    "\n",
    "def replace_letters_with_X(string: str) -> str:\n",
    "    return re.sub(r\"[a-zA-Z]\",\"X\",string)\n",
    "\n",
    "[replace_letters_with_X(string) for string in remove_periods]"
   ]
  },
  {
   "cell_type": "markdown",
   "id": "b3eebbe2",
   "metadata": {},
   "source": [
    "### 5- remove punctuation"
   ]
  },
  {
   "cell_type": "code",
   "execution_count": 20,
   "id": "ed247701",
   "metadata": {},
   "outputs": [],
   "source": [
    "text_without_punct = re.sub(r'[^\\w\\s]','',text)"
   ]
  },
  {
   "cell_type": "markdown",
   "id": "c8cd7474",
   "metadata": {},
   "source": [
    "### 6- Remove stopwords"
   ]
  },
  {
   "cell_type": "code",
   "execution_count": 27,
   "id": "d0e8ba7b",
   "metadata": {},
   "outputs": [],
   "source": [
    "from nltk.corpus import stopwords\n",
    "from nltk.tokenize import word_tokenize\n",
    "stopwords = stopwords.words('english')\n",
    "tokenized_word = word_tokenize(text_without_punct)"
   ]
  },
  {
   "cell_type": "code",
   "execution_count": 28,
   "id": "0ad5d8e5",
   "metadata": {
    "scrolled": true
   },
   "outputs": [
    {
     "data": {
      "text/plain": [
       "['Clustering',\n",
       " 'Machine',\n",
       " 'Learning',\n",
       " 'technique',\n",
       " 'involves',\n",
       " 'grouping',\n",
       " 'data',\n",
       " 'points',\n",
       " 'Given',\n",
       " 'set',\n",
       " 'data',\n",
       " 'points',\n",
       " 'use',\n",
       " 'clustering',\n",
       " 'algorithm',\n",
       " 'classify',\n",
       " 'data',\n",
       " 'point',\n",
       " 'specific',\n",
       " 'group',\n",
       " 'In',\n",
       " 'theory',\n",
       " 'data',\n",
       " 'points',\n",
       " 'group',\n",
       " 'similar',\n",
       " 'properties',\n",
       " 'andor',\n",
       " 'features',\n",
       " 'data',\n",
       " 'points',\n",
       " 'different',\n",
       " 'groups',\n",
       " 'highly',\n",
       " 'dissimilar',\n",
       " 'properties',\n",
       " 'andor',\n",
       " 'features',\n",
       " 'Clustering',\n",
       " 'method',\n",
       " 'unsupervised',\n",
       " 'learning',\n",
       " 'common',\n",
       " 'technique',\n",
       " 'statistical',\n",
       " 'data',\n",
       " 'analysis',\n",
       " 'used',\n",
       " 'many',\n",
       " 'fields',\n",
       " 'In',\n",
       " 'Data',\n",
       " 'Science',\n",
       " 'use',\n",
       " 'clustering',\n",
       " 'analysis',\n",
       " 'gain',\n",
       " 'valuable',\n",
       " 'insights',\n",
       " 'data',\n",
       " 'seeing',\n",
       " 'groups',\n",
       " 'data',\n",
       " 'points',\n",
       " 'fall',\n",
       " 'apply',\n",
       " 'clustering',\n",
       " 'algorithm',\n",
       " 'Today',\n",
       " 'going',\n",
       " 'look',\n",
       " '5',\n",
       " 'popular',\n",
       " 'clustering',\n",
       " 'algorithms',\n",
       " 'data',\n",
       " 'scientists',\n",
       " 'need',\n",
       " 'know',\n",
       " 'pros',\n",
       " 'cons']"
      ]
     },
     "execution_count": 28,
     "metadata": {},
     "output_type": "execute_result"
    }
   ],
   "source": [
    "stopwords_removed = [token for token in tokenized_word if token not in stopwords]\n",
    "stopwords_removed"
   ]
  },
  {
   "cell_type": "markdown",
   "id": "4325a3ab",
   "metadata": {},
   "source": [
    "### 7- Split sentences"
   ]
  },
  {
   "cell_type": "code",
   "execution_count": 31,
   "id": "f361698a",
   "metadata": {},
   "outputs": [
    {
     "data": {
      "text/plain": [
       "['\"',\n",
       " 'Clustering',\n",
       " 'is',\n",
       " 'a',\n",
       " 'Machine',\n",
       " 'Learning',\n",
       " 'technique',\n",
       " 'that',\n",
       " 'involves',\n",
       " 'the',\n",
       " 'grouping',\n",
       " 'of',\n",
       " 'data',\n",
       " 'points.',\n",
       " 'Given',\n",
       " 'a',\n",
       " 'set',\n",
       " 'of',\n",
       " 'data',\n",
       " 'points,',\n",
       " 'we',\n",
       " 'can',\n",
       " 'use',\n",
       " 'a',\n",
       " 'clustering',\n",
       " 'algorithm',\n",
       " 'to',\n",
       " 'classify',\n",
       " 'each',\n",
       " 'data',\n",
       " 'point',\n",
       " 'into',\n",
       " 'a',\n",
       " 'specific',\n",
       " 'group.',\n",
       " 'In',\n",
       " 'theory,',\n",
       " 'data',\n",
       " 'points',\n",
       " 'that',\n",
       " 'are',\n",
       " 'in',\n",
       " 'the',\n",
       " 'same',\n",
       " 'group',\n",
       " 'should',\n",
       " 'have',\n",
       " 'similar',\n",
       " 'properties',\n",
       " 'and/or',\n",
       " 'features,',\n",
       " 'while',\n",
       " 'data',\n",
       " 'points',\n",
       " 'in',\n",
       " '?',\n",
       " 'different',\n",
       " 'groups',\n",
       " 'should',\n",
       " 'have',\n",
       " 'highly',\n",
       " 'dissimilar',\n",
       " 'properties',\n",
       " 'and/or',\n",
       " 'features.',\n",
       " 'Clustering',\n",
       " 'is',\n",
       " 'a',\n",
       " 'method',\n",
       " 'of',\n",
       " 'unsupervised',\n",
       " 'learning',\n",
       " 'and',\n",
       " 'is',\n",
       " 'a',\n",
       " 'common',\n",
       " 'technique',\n",
       " 'for',\n",
       " 'statistical',\n",
       " 'data',\n",
       " 'analysis',\n",
       " 'used',\n",
       " 'in',\n",
       " 'many',\n",
       " 'fields.?',\n",
       " 'In',\n",
       " 'Data',\n",
       " 'Science,',\n",
       " 'we',\n",
       " 'can',\n",
       " 'use',\n",
       " 'clustering',\n",
       " 'analysis',\n",
       " 'to',\n",
       " 'gain',\n",
       " '/',\n",
       " 'some',\n",
       " 'valuable',\n",
       " 'insights',\n",
       " 'from',\n",
       " 'our',\n",
       " 'data',\n",
       " 'by',\n",
       " 'seeing',\n",
       " 'what',\n",
       " 'groups',\n",
       " 'the',\n",
       " 'data',\n",
       " 'points',\n",
       " 'fall',\n",
       " 'into',\n",
       " 'when',\n",
       " 'we',\n",
       " 'apply',\n",
       " 'a',\n",
       " 'clustering',\n",
       " 'algorithm.',\n",
       " 'Today,',\n",
       " 'we’re',\n",
       " 'going',\n",
       " 'to',\n",
       " 'look',\n",
       " 'at',\n",
       " '5',\n",
       " 'popular',\n",
       " 'clustering',\n",
       " 'algorithms',\n",
       " 'that',\n",
       " 'data',\n",
       " 'scientists',\n",
       " 'need',\n",
       " 'to',\n",
       " 'know',\n",
       " 'and',\n",
       " 'their',\n",
       " 'pros',\n",
       " 'and',\n",
       " 'cons',\n",
       " '!',\n",
       " '\"']"
      ]
     },
     "execution_count": 31,
     "metadata": {},
     "output_type": "execute_result"
    }
   ],
   "source": [
    "text.split()"
   ]
  },
  {
   "cell_type": "markdown",
   "id": "41df76bb",
   "metadata": {},
   "source": [
    "### 8- Tokenize words, 2 approaches"
   ]
  },
  {
   "cell_type": "code",
   "execution_count": 36,
   "id": "0b0da7ab",
   "metadata": {},
   "outputs": [
    {
     "data": {
      "text/plain": [
       "['``',\n",
       " 'Clustering',\n",
       " 'is',\n",
       " 'a',\n",
       " 'Machine',\n",
       " 'Learning',\n",
       " 'technique',\n",
       " 'that',\n",
       " 'involves',\n",
       " 'the',\n",
       " 'grouping',\n",
       " 'of',\n",
       " 'data',\n",
       " 'points',\n",
       " '.',\n",
       " 'Given',\n",
       " 'a',\n",
       " 'set',\n",
       " 'of',\n",
       " 'data',\n",
       " 'points',\n",
       " ',',\n",
       " 'we',\n",
       " 'can',\n",
       " 'use',\n",
       " 'a',\n",
       " 'clustering',\n",
       " 'algorithm',\n",
       " 'to',\n",
       " 'classify',\n",
       " 'each',\n",
       " 'data',\n",
       " 'point',\n",
       " 'into',\n",
       " 'a',\n",
       " 'specific',\n",
       " 'group',\n",
       " '.',\n",
       " 'In',\n",
       " 'theory',\n",
       " ',',\n",
       " 'data',\n",
       " 'points',\n",
       " 'that',\n",
       " 'are',\n",
       " 'in',\n",
       " 'the',\n",
       " 'same',\n",
       " 'group',\n",
       " 'should',\n",
       " 'have',\n",
       " 'similar',\n",
       " 'properties',\n",
       " 'and/or',\n",
       " 'features',\n",
       " ',',\n",
       " 'while',\n",
       " 'data',\n",
       " 'points',\n",
       " 'in',\n",
       " '?',\n",
       " 'different',\n",
       " 'groups',\n",
       " 'should',\n",
       " 'have',\n",
       " 'highly',\n",
       " 'dissimilar',\n",
       " 'properties',\n",
       " 'and/or',\n",
       " 'features',\n",
       " '.',\n",
       " 'Clustering',\n",
       " 'is',\n",
       " 'a',\n",
       " 'method',\n",
       " 'of',\n",
       " 'unsupervised',\n",
       " 'learning',\n",
       " 'and',\n",
       " 'is',\n",
       " 'a',\n",
       " 'common',\n",
       " 'technique',\n",
       " 'for',\n",
       " 'statistical',\n",
       " 'data',\n",
       " 'analysis',\n",
       " 'used',\n",
       " 'in',\n",
       " 'many',\n",
       " 'fields.',\n",
       " '?',\n",
       " 'In',\n",
       " 'Data',\n",
       " 'Science',\n",
       " ',',\n",
       " 'we',\n",
       " 'can',\n",
       " 'use',\n",
       " 'clustering',\n",
       " 'analysis',\n",
       " 'to',\n",
       " 'gain',\n",
       " '/',\n",
       " 'some',\n",
       " 'valuable',\n",
       " 'insights',\n",
       " 'from',\n",
       " 'our',\n",
       " 'data',\n",
       " 'by',\n",
       " 'seeing',\n",
       " 'what',\n",
       " 'groups',\n",
       " 'the',\n",
       " 'data',\n",
       " 'points',\n",
       " 'fall',\n",
       " 'into',\n",
       " 'when',\n",
       " 'we',\n",
       " 'apply',\n",
       " 'a',\n",
       " 'clustering',\n",
       " 'algorithm',\n",
       " '.',\n",
       " 'Today',\n",
       " ',',\n",
       " 'we',\n",
       " '’',\n",
       " 're',\n",
       " 'going',\n",
       " 'to',\n",
       " 'look',\n",
       " 'at',\n",
       " '5',\n",
       " 'popular',\n",
       " 'clustering',\n",
       " 'algorithms',\n",
       " 'that',\n",
       " 'data',\n",
       " 'scientists',\n",
       " 'need',\n",
       " 'to',\n",
       " 'know',\n",
       " 'and',\n",
       " 'their',\n",
       " 'pros',\n",
       " 'and',\n",
       " 'cons',\n",
       " '!',\n",
       " '``']"
      ]
     },
     "execution_count": 36,
     "metadata": {},
     "output_type": "execute_result"
    }
   ],
   "source": [
    "#1. Word Tokenizer\n",
    "from nltk.tokenize import word_tokenize\n",
    "\n",
    "tokenized_word = word_tokenize(text)\n",
    "tokenized_word"
   ]
  },
  {
   "cell_type": "code",
   "execution_count": 37,
   "id": "646af9ea",
   "metadata": {},
   "outputs": [
    {
     "name": "stdout",
     "output_type": "stream",
     "text": [
      "['\"    Clustering is a Machine Learning technique that involves the grouping of data points.', 'Given a set of data points, we can use a clustering \\nalgorithm to classify each data point into a specific group.', 'In theory, data points that are in the same group should have similar properties and/or \\nfeatures, while data points in ?', 'different groups should have highly dissimilar properties and/or features.', 'Clustering is a method of unsupervised learning\\nand is a common technique for statistical data analysis used in many fields.?', 'In Data Science,\\nwe can use clustering analysis to gain / some valuable insights from our data by seeing what groups \\nthe data points fall into when we apply a clustering algorithm.', 'Today, we’re going to look at 5 popular \\nclustering algorithms that data scientists need to know and their pros and cons   !   \"']\n"
     ]
    }
   ],
   "source": [
    "#2. Sentence Tokenizer\n",
    "from nltk.tokenize import sent_tokenize\n",
    "tokenized_sent = sent_tokenize(text)\n",
    "print(tokenized_sent)"
   ]
  },
  {
   "cell_type": "markdown",
   "id": "05726498",
   "metadata": {},
   "source": [
    "### 9- Stemming"
   ]
  },
  {
   "cell_type": "code",
   "execution_count": 41,
   "id": "d4ccc774",
   "metadata": {
    "scrolled": true
   },
   "outputs": [
    {
     "data": {
      "text/plain": [
       "['cluster',\n",
       " 'machin',\n",
       " 'learn',\n",
       " 'techniqu',\n",
       " 'involv',\n",
       " 'group',\n",
       " 'data',\n",
       " 'point',\n",
       " 'given',\n",
       " 'set',\n",
       " 'data',\n",
       " 'point',\n",
       " 'use',\n",
       " 'cluster',\n",
       " 'algorithm',\n",
       " 'classifi',\n",
       " 'data',\n",
       " 'point',\n",
       " 'specif',\n",
       " 'group',\n",
       " 'in',\n",
       " 'theori',\n",
       " 'data',\n",
       " 'point',\n",
       " 'group',\n",
       " 'similar',\n",
       " 'properti',\n",
       " 'andor',\n",
       " 'featur',\n",
       " 'data',\n",
       " 'point',\n",
       " 'differ',\n",
       " 'group',\n",
       " 'highli',\n",
       " 'dissimilar',\n",
       " 'properti',\n",
       " 'andor',\n",
       " 'featur',\n",
       " 'cluster',\n",
       " 'method',\n",
       " 'unsupervis',\n",
       " 'learn',\n",
       " 'common',\n",
       " 'techniqu',\n",
       " 'statist',\n",
       " 'data',\n",
       " 'analysi',\n",
       " 'use',\n",
       " 'mani',\n",
       " 'field',\n",
       " 'in',\n",
       " 'data',\n",
       " 'scienc',\n",
       " 'use',\n",
       " 'cluster',\n",
       " 'analysi',\n",
       " 'gain',\n",
       " 'valuabl',\n",
       " 'insight',\n",
       " 'data',\n",
       " 'see',\n",
       " 'group',\n",
       " 'data',\n",
       " 'point',\n",
       " 'fall',\n",
       " 'appli',\n",
       " 'cluster',\n",
       " 'algorithm',\n",
       " 'today',\n",
       " 'go',\n",
       " 'look',\n",
       " '5',\n",
       " 'popular',\n",
       " 'cluster',\n",
       " 'algorithm',\n",
       " 'data',\n",
       " 'scientist',\n",
       " 'need',\n",
       " 'know',\n",
       " 'pro',\n",
       " 'con']"
      ]
     },
     "execution_count": 41,
     "metadata": {},
     "output_type": "execute_result"
    }
   ],
   "source": [
    "from nltk.stem import PorterStemmer\n",
    "porter = PorterStemmer()\n",
    "stemmed = []\n",
    "for word in stopwords_removed:\n",
    "    stemmed.append(porter.stem(word))\n",
    "stemmed"
   ]
  },
  {
   "cell_type": "markdown",
   "id": "51166359",
   "metadata": {},
   "source": [
    "### 10- Lemmatizing some sample words that you choose"
   ]
  },
  {
   "cell_type": "code",
   "execution_count": 51,
   "id": "41f1f394",
   "metadata": {},
   "outputs": [
    {
     "name": "stdout",
     "output_type": "stream",
     "text": [
      "Clustering\n",
      "Machine\n",
      "Learning\n",
      "technique\n",
      "involve\n",
      "group\n",
      "data\n",
      "point\n",
      "Given\n",
      "set\n",
      "data\n",
      "point\n",
      "use\n",
      "********************\n",
      "Clustering\n",
      "Machine\n",
      "Learning\n",
      "technique\n",
      "involves\n",
      "grouping\n",
      "data\n",
      "point\n",
      "Given\n",
      "set\n",
      "data\n",
      "point\n",
      "use\n"
     ]
    }
   ],
   "source": [
    "from nltk.stem import WordNetLemmatizer\n",
    "lem = WordNetLemmatizer()\n",
    "\n",
    "for word in stopwords_removed[0:13]:\n",
    "    print(lem.lemmatize(word,pos='v')) #verb\n",
    "\n",
    "print('*'*20)\n",
    "\n",
    "for word in stopwords_removed[0:13]:\n",
    "    print(lem.lemmatize(word,pos='n')) #noun"
   ]
  },
  {
   "cell_type": "code",
   "execution_count": null,
   "id": "8a067e14",
   "metadata": {},
   "outputs": [],
   "source": []
  },
  {
   "cell_type": "code",
   "execution_count": null,
   "id": "629af1b7",
   "metadata": {},
   "outputs": [],
   "source": []
  }
 ],
 "metadata": {
  "kernelspec": {
   "display_name": "Python 3",
   "language": "python",
   "name": "python3"
  },
  "language_info": {
   "codemirror_mode": {
    "name": "ipython",
    "version": 3
   },
   "file_extension": ".py",
   "mimetype": "text/x-python",
   "name": "python",
   "nbconvert_exporter": "python",
   "pygments_lexer": "ipython3",
   "version": "3.8.8"
  }
 },
 "nbformat": 4,
 "nbformat_minor": 5
}
